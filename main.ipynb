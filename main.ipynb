{
 "cells": [
  {
   "cell_type": "code",
   "execution_count": null,
   "metadata": {
    "vscode": {
     "languageId": "plaintext"
    }
   },
   "outputs": [],
   "source": [
    "import datetime\n",
    "import subprocess\n",
    "import configparser\n",
    "from selenium import webdriver\n",
    "from selenium.webdriver.common.by import By\n",
    "from selenium.webdriver.support.ui import WebDriverWait\n",
    "from selenium.webdriver.support import expected_conditions as ec\n",
    "import pandas as pd\n",
    "import traceback\n",
    "import chromedriver_autoinstaller\n",
    "from selenium.webdriver.chrome.service import Service\n",
    "import os\n",
    "import sys\n",
    "import logging"
   ]
  },
  {
   "cell_type": "code",
   "execution_count": null,
   "metadata": {
    "vscode": {
     "languageId": "plaintext"
    }
   },
   "outputs": [],
   "source": [
    "class initialize:\n",
    "\n",
    "    def __init__(self):\n",
    "\n",
    "        self.PATH = os.getcwd()\n",
    "        self.USER = os.getlogin()\n",
    "\n",
    "        # create logger\n",
    "        self.logger = logging.getLogger(__name__)\n",
    "        self.logger.setLevel(logging.DEBUG)\n",
    "\n",
    "        # create console handler\n",
    "        ch = logging.StreamHandler()\n",
    "\n",
    "        #create file handler \n",
    "        date = str(datetime.datetime.now().strftime('%d-%b-%Y %H_%M_%S %p'))\n",
    "\n",
    "        fh = logging.FileHandler(f'{self.PATH}\\\\debug\\\\{date}.log',encoding='utf-8')\n",
    "\n",
    "        # create formatter\n",
    "        formatter = logging.Formatter('%(asctime)s - %(funcName)s - %(lineno)d - %(levelname)s - %(message)s',datefmt='%d/%b/%Y %I:%M:%S %p')\n",
    "\n",
    "        # add formatter to ch\n",
    "        ch.setFormatter(formatter)\n",
    "\n",
    "        #add formatter to fh\n",
    "        fh.setFormatter(formatter)\n",
    "\n",
    "        # add ch to logger\n",
    "        self.logger.addHandler(ch)\n",
    "\n",
    "        #add fh to logger\n",
    "        self.logger.addHandler(fh)\n",
    "\n",
    "\n",
    "        #config.init file\n",
    "        self.my_config_parser = configparser.ConfigParser()\n",
    "\n",
    "        self.my_config_parser.read(f'{self.path}\\\\config\\\\config.ini')\n",
    "\n",
    "        self.config = { \n",
    "\n",
    "        'email': self.my_config_parser.get('config','email'),\n",
    "        'password': self.my_config_parser.get('config','password'),\n",
    "\n",
    "\n",
    "        }\n",
    "        \n",
    "        self.logger.info(f'USER : {self.USER}')\n",
    "\n"
   ]
  },
  {
   "cell_type": "code",
   "execution_count": null,
   "metadata": {
    "vscode": {
     "languageId": "plaintext"
    }
   },
   "outputs": [],
   "source": []
  }
 ],
 "metadata": {
  "language_info": {
   "name": "python"
  },
  "orig_nbformat": 4
 },
 "nbformat": 4,
 "nbformat_minor": 2
}

{
 "cells": [
  {
   "cell_type": "code",
   "execution_count": 1,
   "metadata": {},
   "outputs": [],
   "source": [
    "import datetime\n",
    "import subprocess\n",
    "import configparser\n",
    "from selenium import webdriver\n",
    "from selenium.webdriver.common.by import By\n",
    "from selenium.webdriver.support.ui import WebDriverWait\n",
    "from selenium.webdriver.support import expected_conditions as ec\n",
    "import pandas as pd\n",
    "import traceback\n",
    "import chromedriver_autoinstaller\n",
    "from selenium.webdriver.chrome.service import Service\n",
    "import os\n",
    "import sys\n",
    "import logging"
   ]
  },
  {
   "cell_type": "code",
   "execution_count": 6,
   "metadata": {},
   "outputs": [],
   "source": [
    "class UPLOAD_FARC:\n",
    "\n",
    "    def __init__(self):\n",
    "\n",
    "        self.PATH = os.getcwd()\n",
    "        self.USER = os.getlogin()\n",
    "\n",
    "        # create logger\n",
    "        self.logger = logging.getLogger(__name__)\n",
    "        self.logger.setLevel(logging.DEBUG)\n",
    "\n",
    "        # create console handler\n",
    "        ch = logging.StreamHandler()\n",
    "\n",
    "        #create file handler \n",
    "        date = str(datetime.datetime.now().strftime('%d-%b-%Y %H_%M_%S %p'))\n",
    "\n",
    "        fh = logging.FileHandler(f'{self.PATH}\\\\debug\\\\{date}.log',encoding='utf-8')\n",
    "\n",
    "        # create formatter\n",
    "        formatter = logging.Formatter('%(asctime)s - %(funcName)s - %(lineno)d - %(levelname)s - %(message)s',datefmt='%d/%b/%Y %I:%M:%S %p')\n",
    "\n",
    "        # add formatter to ch\n",
    "        ch.setFormatter(formatter)\n",
    "\n",
    "        #add formatter to fh\n",
    "        fh.setFormatter(formatter)\n",
    "\n",
    "        # add ch to logger\n",
    "        self.logger.addHandler(ch)\n",
    "\n",
    "        #add fh to logger\n",
    "        self.logger.addHandler(fh)\n",
    "\n",
    "        #config.init file\n",
    "        self.my_config_parser = configparser.ConfigParser()\n",
    "\n",
    "        self.my_config_parser.read(f'{self.PATH}\\\\config\\\\config.ini')\n",
    "\n",
    "        self.config = { \n",
    "\n",
    "        'email': self.my_config_parser.get('config','email'),\n",
    "        'password': self.my_config_parser.get('config','password'),\n",
    "\n",
    "\n",
    "        }\n",
    "        \n",
    "        self.logger.info(f'USER : {self.USER}')\n",
    "        \n",
    "        self.driver_path = self.PATH + '\\\\msedgedriver.exe'\n",
    "    \n",
    "\n",
    "    def login(self,usr,pwd):\n",
    "            \n",
    "            self.driver=webdriver.Edge(service=Service(self.driver_path))\n",
    "            self.driver.maximize_window()\n",
    "            self.driver.get('https://golf.fabrinet.co.th/')\n",
    "            WebDriverWait(self.driver, 10).until(ec.visibility_of_element_located((By.XPATH, '//input[@type=\"text\"]'))).send_keys(usr)\n",
    "            WebDriverWait(self.driver, 10).until(ec.visibility_of_element_located((By.XPATH, '//input[@type=\"password\"]'))).send_keys(pwd)\n",
    "            WebDriverWait(self.driver, 10).until(ec.visibility_of_element_located((By.XPATH, '//input[@type=\"submit\"]'))).click()      \n",
    "\n"
   ]
  },
  {
   "cell_type": "code",
   "execution_count": 19,
   "metadata": {},
   "outputs": [
    {
     "ename": "TypeError",
     "evalue": "UPLOAD_FARC.login() missing 1 required positional argument: 'pwd'",
     "output_type": "error",
     "traceback": [
      "\u001b[1;31m---------------------------------------------------------------------------\u001b[0m",
      "\u001b[1;31mTypeError\u001b[0m                                 Traceback (most recent call last)",
      "Cell \u001b[1;32mIn [19], line 1\u001b[0m\n\u001b[1;32m----> 1\u001b[0m \u001b[39mclass\u001b[39;00m \u001b[39mUPLOAD_FARC2\u001b[39;00m(UPLOAD_FARC):\n\u001b[0;32m      3\u001b[0m     UPLOAD_FARC\u001b[39m.\u001b[39mlogin(\u001b[39m'\u001b[39m\u001b[39mnathawitp\u001b[39m\u001b[39m'\u001b[39m,\u001b[39m'\u001b[39m\u001b[39mWorkatfa@14\u001b[39m\u001b[39m'\u001b[39m)\n",
      "Cell \u001b[1;32mIn [19], line 3\u001b[0m, in \u001b[0;36mUPLOAD_FARC2\u001b[1;34m()\u001b[0m\n\u001b[0;32m      1\u001b[0m \u001b[39mclass\u001b[39;00m \u001b[39mUPLOAD_FARC2\u001b[39;00m(UPLOAD_FARC):\n\u001b[1;32m----> 3\u001b[0m     UPLOAD_FARC\u001b[39m.\u001b[39;49mlogin(\u001b[39m'\u001b[39;49m\u001b[39mnathawitp\u001b[39;49m\u001b[39m'\u001b[39;49m,\u001b[39m'\u001b[39;49m\u001b[39mWorkatfa@14\u001b[39;49m\u001b[39m'\u001b[39;49m)\n",
      "\u001b[1;31mTypeError\u001b[0m: UPLOAD_FARC.login() missing 1 required positional argument: 'pwd'"
     ]
    }
   ],
   "source": [
    "class UPLOAD_FARC2(UPLOAD_FARC):\n",
    "\n",
    "    UPLOAD_FARC.login(self,'nathawitp','Workatfa@14')"
   ]
  },
  {
   "cell_type": "code",
   "execution_count": 7,
   "metadata": {},
   "outputs": [
    {
     "name": "stderr",
     "output_type": "stream",
     "text": [
      "09/Feb/2023 01:12:17 PM - __init__ - 48 - INFO - USER : wlongsid\n"
     ]
    }
   ],
   "source": [
    "inst_tst = UPLOAD_FARC()\n",
    "inst_tst.login('nathawitp','Workatfa@14')\n",
    "\n",
    "\n",
    "\n"
   ]
  }
 ],
 "metadata": {
  "kernelspec": {
   "display_name": "Python 3",
   "language": "python",
   "name": "python3"
  },
  "language_info": {
   "codemirror_mode": {
    "name": "ipython",
    "version": 3
   },
   "file_extension": ".py",
   "mimetype": "text/x-python",
   "name": "python",
   "nbconvert_exporter": "python",
   "pygments_lexer": "ipython3",
   "version": "3.10.1"
  },
  "orig_nbformat": 4,
  "vscode": {
   "interpreter": {
    "hash": "da1078ad073d140362beb2aed46cbd8aaae7b2ac85366302af783340a551578e"
   }
  }
 },
 "nbformat": 4,
 "nbformat_minor": 2
}
